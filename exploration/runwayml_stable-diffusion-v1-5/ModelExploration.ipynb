{
 "cells": [
  {
   "cell_type": "code",
   "execution_count": 1,
   "metadata": {},
   "outputs": [
    {
     "name": "stderr",
     "output_type": "stream",
     "text": [
      "c:\\Users\\Tim\\AppData\\Local\\Programs\\Python\\Python38\\lib\\site-packages\\requests\\__init__.py:78: RequestsDependencyWarning: urllib3 (1.26.15) or chardet (3.0.4) doesn't match a supported version!\n",
      "  warnings.warn(\"urllib3 ({0}) or chardet ({1}) doesn't match a supported \"\n",
      "You have disabled the safety checker for <class 'diffusers.pipelines.stable_diffusion.pipeline_stable_diffusion.StableDiffusionPipeline'> by passing `safety_checker=None`. Ensure that you abide to the conditions of the Stable Diffusion license and do not expose unfiltered results in services or applications open to the public. Both the diffusers team and Hugging Face strongly recommend to keep the safety filter enabled in all public facing circumstances, disabling it only for use-cases that involve analyzing network behavior or auditing its results. For more information, please have a look at https://github.com/huggingface/diffusers/pull/254 .\n"
     ]
    }
   ],
   "source": [
    "from diffusers import StableDiffusionPipeline\n",
    "import torch\n",
    "\n",
    "model_id = \"runwayml/stable-diffusion-v1-5\"\n",
    "pipe = StableDiffusionPipeline.from_pretrained(model_id, torch_dtype=torch.float16, safety_checker = None)\n",
    "pipe = pipe.to(\"cuda\")\n"
   ]
  },
  {
   "cell_type": "code",
   "execution_count": 2,
   "metadata": {},
   "outputs": [
    {
     "name": "stderr",
     "output_type": "stream",
     "text": [
      "100%|██████████| 50/50 [00:09<00:00,  5.46it/s]\n"
     ]
    }
   ],
   "source": [
    "prompt = \"a photo of an astronaut riding a horse on mars\"\n",
    "image = pipe(prompt).images[0]  \n",
    "    \n",
    "image.save(\"astronaut_rides_horse.png\")"
   ]
  },
  {
   "cell_type": "code",
   "execution_count": 3,
   "metadata": {},
   "outputs": [
    {
     "name": "stderr",
     "output_type": "stream",
     "text": [
      "100%|██████████| 50/50 [00:04<00:00, 10.20it/s]\n"
     ]
    }
   ],
   "source": [
    "prompt = \"a photo of an astronaut riding a horse on mars\"\n",
    "image = pipe(prompt).images[0]  \n",
    "    \n",
    "image.save(\"astronaut_rides_horse2.png\")"
   ]
  },
  {
   "cell_type": "code",
   "execution_count": 4,
   "metadata": {},
   "outputs": [
    {
     "name": "stderr",
     "output_type": "stream",
     "text": [
      "100%|██████████| 50/50 [00:04<00:00, 10.39it/s]\n"
     ]
    }
   ],
   "source": [
    "prompt = \"a photo of Elon Musk\"\n",
    "image = pipe(prompt).images[0]  \n",
    "    \n",
    "image.save(\"elon.png\")"
   ]
  },
  {
   "cell_type": "code",
   "execution_count": 5,
   "metadata": {},
   "outputs": [
    {
     "name": "stderr",
     "output_type": "stream",
     "text": [
      "100%|██████████| 50/50 [00:04<00:00, 10.38it/s]\n"
     ]
    }
   ],
   "source": [
    "prompt = \"a photo of Elon Musk\"\n",
    "image = pipe(prompt).images[0]  \n",
    "    \n",
    "image.save(\"elon2.png\")"
   ]
  },
  {
   "cell_type": "code",
   "execution_count": 6,
   "metadata": {},
   "outputs": [
    {
     "name": "stderr",
     "output_type": "stream",
     "text": [
      "100%|██████████| 50/50 [00:05<00:00,  9.43it/s]\n"
     ]
    }
   ],
   "source": [
    "prompt = \"a realistic photo of Elon Musk\"\n",
    "image = pipe(prompt).images[0]  \n",
    "    \n",
    "image.save(\"realistic_elon.png\")"
   ]
  },
  {
   "cell_type": "code",
   "execution_count": 7,
   "metadata": {},
   "outputs": [
    {
     "name": "stderr",
     "output_type": "stream",
     "text": [
      "100%|██████████| 50/50 [00:05<00:00,  9.49it/s]\n"
     ]
    }
   ],
   "source": [
    "prompt = \"a realistic photo of a person\"\n",
    "image = pipe(prompt).images[0]  \n",
    "    \n",
    "image.save(\"realistic_person.png\")  "
   ]
  },
  {
   "cell_type": "code",
   "execution_count": 8,
   "metadata": {},
   "outputs": [
    {
     "name": "stderr",
     "output_type": "stream",
     "text": [
      "100%|██████████| 50/50 [00:05<00:00,  9.50it/s]\n"
     ]
    }
   ],
   "source": [
    "prompt = \"a close up portrait photo of 26 y.o dude, (high detailed skin:1.2), 8k uhd, dslr, soft lighting, high quality, film grain, Fujifilm XT3\"\n",
    "image = pipe(prompt).images[0]  \n",
    "    \n",
    "image.save(\"dude_person.png\")  "
   ]
  },
  {
   "cell_type": "code",
   "execution_count": 9,
   "metadata": {},
   "outputs": [
    {
     "name": "stderr",
     "output_type": "stream",
     "text": [
      "100%|██████████| 50/50 [00:05<00:00,  9.36it/s]\n"
     ]
    }
   ],
   "source": [
    "prompt = \"a close up portrait photo of 26 y.o man, (high detailed skin:1.2), 8k uhd, dslr, soft lighting, high quality, film grain, Fujifilm XT3\"\n",
    "image = pipe(prompt).images[0]  \n",
    "    \n",
    "image.save(\"man_person.png\")  "
   ]
  },
  {
   "cell_type": "code",
   "execution_count": 10,
   "metadata": {},
   "outputs": [
    {
     "name": "stderr",
     "output_type": "stream",
     "text": [
      "100%|██████████| 50/50 [00:05<00:00,  9.37it/s]\n"
     ]
    }
   ],
   "source": [
    "prompt = \"a close up portrait photo of old man, (high detailed skin:1.2), 8k uhd, dslr, soft lighting, high quality, film grain, Fujifilm XT3\"\n",
    "image = pipe(prompt).images[0]  \n",
    "    \n",
    "image.save(\"old_man_person.png\")  "
   ]
  },
  {
   "cell_type": "code",
   "execution_count": 11,
   "metadata": {},
   "outputs": [
    {
     "name": "stderr",
     "output_type": "stream",
     "text": [
      "100%|██████████| 50/50 [00:05<00:00,  9.24it/s]\n"
     ]
    }
   ],
   "source": [
    "prompt = \"a close up photo of elon musk, (high detailed skin:1.2), 8k uhd, dslr, soft lighting, high quality, film grain, Fujifilm XT3\"\n",
    "image = pipe(prompt).images[0]\n",
    "    \n",
    "image.save(\"musk_new_prompt.png\") "
   ]
  },
  {
   "cell_type": "code",
   "execution_count": 12,
   "metadata": {},
   "outputs": [
    {
     "name": "stderr",
     "output_type": "stream",
     "text": [
      "100%|██████████| 50/50 [00:05<00:00,  8.94it/s]\n"
     ]
    }
   ],
   "source": [
    "prompt = \"a close up photo of a japanese old man, (high detailed skin:1.2), 8k uhd, dslr, soft lighting, high quality, film grain, Fujifilm XT3\"\n",
    "image = pipe(prompt).images[0]\n",
    "    \n",
    "image.save(\"japanese_old_man.png\")  "
   ]
  },
  {
   "cell_type": "code",
   "execution_count": 13,
   "metadata": {},
   "outputs": [
    {
     "name": "stderr",
     "output_type": "stream",
     "text": [
      "100%|██████████| 50/50 [00:05<00:00,  9.40it/s]\n"
     ]
    }
   ],
   "source": [
    "prompt = \"a cat, 8k uhd, dslr, soft lighting, high quality, film grain, Fujifilm XT3\"\n",
    "image = pipe(prompt).images[0]\n",
    "    \n",
    "image.save(\"cat.png\")  "
   ]
  },
  {
   "cell_type": "code",
   "execution_count": 14,
   "metadata": {},
   "outputs": [
    {
     "name": "stderr",
     "output_type": "stream",
     "text": [
      "100%|██████████| 50/50 [00:05<00:00,  9.35it/s]\n"
     ]
    }
   ],
   "source": [
    "prompt = \"french cat\"\n",
    "image = pipe(prompt).images[0]\n",
    "    \n",
    "image.save(\"french_cat.png\")  "
   ]
  },
  {
   "cell_type": "code",
   "execution_count": 15,
   "metadata": {},
   "outputs": [
    {
     "name": "stderr",
     "output_type": "stream",
     "text": [
      "100%|██████████| 50/50 [00:05<00:00,  9.49it/s]\n"
     ]
    }
   ],
   "source": [
    "prompt = \"banana\"\n",
    "image = pipe(prompt).images[0]\n",
    "    \n",
    "image.save(\"banana.png\")  "
   ]
  },
  {
   "cell_type": "code",
   "execution_count": 16,
   "metadata": {},
   "outputs": [
    {
     "name": "stderr",
     "output_type": "stream",
     "text": [
      "100%|██████████| 50/50 [00:05<00:00,  9.49it/s]\n"
     ]
    }
   ],
   "source": [
    "prompt = \"banana, 8k uhd, dslr, soft lighting, high quality, film grain, Fujifilm XT3\"\n",
    "image = pipe(prompt).images[0]\n",
    "    \n",
    "image.save(\"banana_realistic.png\")  "
   ]
  },
  {
   "cell_type": "code",
   "execution_count": 17,
   "metadata": {},
   "outputs": [
    {
     "name": "stderr",
     "output_type": "stream",
     "text": [
      "100%|██████████| 50/50 [00:05<00:00,  9.51it/s]\n"
     ]
    }
   ],
   "source": [
    "prompt = \"photo camera, 8k uhd, dslr, soft lighting, high quality, film grain, Fujifilm XT3\"\n",
    "image = pipe(prompt).images[0]\n",
    "    \n",
    "image.save(\"photo_camera.png\")  "
   ]
  },
  {
   "cell_type": "code",
   "execution_count": 18,
   "metadata": {},
   "outputs": [
    {
     "name": "stderr",
     "output_type": "stream",
     "text": [
      "100%|██████████| 50/50 [00:05<00:00,  9.46it/s]\n"
     ]
    }
   ],
   "source": [
    "prompt = \"ambulance car, 8k uhd, dslr, soft lighting, high quality, film grain, Fujifilm XT3\"\n",
    "image = pipe(prompt).images[0]\n",
    "    \n",
    "image.save(\"ambulance_car.png\")  "
   ]
  },
  {
   "cell_type": "code",
   "execution_count": 19,
   "metadata": {},
   "outputs": [
    {
     "name": "stderr",
     "output_type": "stream",
     "text": [
      "100%|██████████| 50/50 [00:05<00:00,  9.49it/s]\n"
     ]
    }
   ],
   "source": [
    "prompt = \"macbook, 8k uhd, dslr, soft lighting, high quality, film grain, Fujifilm XT3\"\n",
    "image = pipe(prompt).images[0]\n",
    "    \n",
    "image.save(\"macbook.png\")  "
   ]
  },
  {
   "cell_type": "code",
   "execution_count": 20,
   "metadata": {},
   "outputs": [
    {
     "name": "stderr",
     "output_type": "stream",
     "text": [
      "100%|██████████| 50/50 [00:05<00:00,  9.46it/s]\n"
     ]
    }
   ],
   "source": [
    "prompt = \"stingray, 8k uhd, dslr, soft lighting, high quality, film grain, Fujifilm XT3\"\n",
    "image = pipe(prompt).images[0]\n",
    "\n",
    "image.save(\"stingray.png\")  "
   ]
  },
  {
   "cell_type": "code",
   "execution_count": 21,
   "metadata": {},
   "outputs": [
    {
     "name": "stderr",
     "output_type": "stream",
     "text": [
      "100%|██████████| 50/50 [00:05<00:00,  9.50it/s]\n"
     ]
    }
   ],
   "source": [
    "prompt = \"Junco, 8k uhd, dslr, soft lighting, high quality, film grain, Fujifilm XT3\"\n",
    "image = pipe(prompt).images[0]\n",
    "\n",
    "image.save(\"Junco.png\")  "
   ]
  },
  {
   "cell_type": "code",
   "execution_count": 22,
   "metadata": {},
   "outputs": [
    {
     "name": "stderr",
     "output_type": "stream",
     "text": [
      "100%|██████████| 350/350 [00:34<00:00, 10.03it/s]\n"
     ]
    }
   ],
   "source": [
    "prompt = \"Junco, 8k uhd, dslr, soft lighting, high quality, film grain, Fujifilm XT3\"\n",
    "image = pipe(prompt, num_inference_steps=350).images[0]\n",
    "\n",
    "image.save(\"superreal_junco.png\")  "
   ]
  },
  {
   "cell_type": "code",
   "execution_count": 23,
   "metadata": {},
   "outputs": [
    {
     "name": "stderr",
     "output_type": "stream",
     "text": [
      "100%|██████████| 200/200 [00:12<00:00, 16.39it/s]\n"
     ]
    }
   ],
   "source": [
    "prompt = \"26 y.o french girl, (high detailed skin:1.2), 8k uhd, dslr, soft lighting, high quality, film grain, Fujifilm XT3\"\n",
    "image = pipe(prompt, num_inference_steps=200, guidance_scale=0.5, height=512, width=512).images[0]\n",
    "\n",
    "image.save(\"guidance_french_girl.png\")  "
   ]
  }
 ],
 "metadata": {
  "kernelspec": {
   "display_name": "Python 3",
   "language": "python",
   "name": "python3"
  },
  "language_info": {
   "codemirror_mode": {
    "name": "ipython",
    "version": 3
   },
   "file_extension": ".py",
   "mimetype": "text/x-python",
   "name": "python",
   "nbconvert_exporter": "python",
   "pygments_lexer": "ipython3",
   "version": "3.8.0"
  },
  "orig_nbformat": 4
 },
 "nbformat": 4,
 "nbformat_minor": 2
}
