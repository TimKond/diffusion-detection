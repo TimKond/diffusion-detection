{
 "cells": [
  {
   "cell_type": "code",
   "execution_count": 1,
   "metadata": {},
   "outputs": [
    {
     "name": "stdout",
     "output_type": "stream",
     "text": [
      "/device:GPU:0\n"
     ]
    },
    {
     "name": "stderr",
     "output_type": "stream",
     "text": [
      "c:\\Users\\Tim\\miniconda3\\lib\\site-packages\\tqdm\\auto.py:21: TqdmWarning: IProgress not found. Please update jupyter and ipywidgets. See https://ipywidgets.readthedocs.io/en/stable/user_install.html\n",
      "  from .autonotebook import tqdm as notebook_tqdm\n"
     ]
    }
   ],
   "source": [
    "import os\n",
    "os.environ[\"CUDA_VISIBLE_DEVICES\"] = \"0\"\n",
    "import tensorflow as tf\n",
    "import keras\n",
    "physical_devices = tf.test.gpu_device_name()\n",
    "print(physical_devices)\n",
    "\n",
    "from tensorflow.keras import layers, models\n",
    "import matplotlib.pyplot as plt\n",
    "\n",
    "import datasets\n",
    "\n",
    "import numpy as np"
   ]
  },
  {
   "cell_type": "code",
   "execution_count": 2,
   "metadata": {},
   "outputs": [],
   "source": [
    "from transformers import BeitImageProcessor, BeitForImageClassification\n",
    "\n",
    "processor = BeitImageProcessor.from_pretrained('TimKond/diffusion-detection')\n",
    "\n",
    "def ds_preprocess_image(entity):\n",
    "    img = entity[\"image\"]\n",
    "    width, height = img.size\n",
    "    target_size = min(width, height)\n",
    "    left = max(0, (width - target_size ) // 2)\n",
    "    right = left + target_size\n",
    "    top = max(0, (height - target_size ) // 2)\n",
    "    bottom = top + target_size\n",
    "    crop = img.crop((left, top, right, bottom)).convert('RGB')\n",
    "    resize = crop.resize((224,224))\n",
    "    #process = processor(resize)\n",
    "    #transformed = np.transpose(np.array(  process[\"pixel_values\"][0]  ), (1,2,0)) \n",
    "    #entity[\"image\"] = transformed\n",
    "    entity[\"image\"] = resize\n",
    "    return entity"
   ]
  },
  {
   "cell_type": "code",
   "execution_count": 3,
   "metadata": {},
   "outputs": [],
   "source": [
    "def preprocess_image(img):\n",
    "    width, height = img.size\n",
    "    target_size = min(width, height)\n",
    "    left = max(0, (width - target_size ) // 2)\n",
    "    right = left + target_size\n",
    "    top = max(0, (height - target_size ) // 2)\n",
    "    bottom = top + target_size\n",
    "    crop = img.crop((left, top, right, bottom)).convert('RGB')\n",
    "    resize = crop.resize((224,224))\n",
    "    process = processor(resize)[\"pixel_values\"][0]\n",
    "    return np.array(process)\n",
    "    # return np.array(resize)"
   ]
  },
  {
   "cell_type": "code",
   "execution_count": 4,
   "metadata": {},
   "outputs": [],
   "source": [
    "preprocess = False\n",
    "if preprocess:\n",
    "\n",
    "    # load image data\n",
    "\n",
    "    ds = datasets.load_from_disk(\"../../data/diffusion_and_real/\")\n",
    "\n",
    "    # train_images = np.array([preprocess_image(image) for image in ds[\"train\"][\"image\"]])\n",
    "    # train_labels = np.array(ds[\"train\"][\"label\"])\n",
    "\n",
    "    # vali_images = np.array([preprocess_image(image) for image in ds[\"vali\"][\"image\"]])\n",
    "    # vali_labels = np.array(ds[\"vali\"][\"label\"])\n",
    "\n",
    "    # test_images = np.array([preprocess_image(image) for image in ds[\"test\"][\"image\"]])\n",
    "    # test_labels = np.array(ds[\"test\"][\"label\"])\n",
    "\n",
    "    ds_map = ds.map(ds_preprocess_image)\n",
    "\n",
    "    ds_tf = ds_map.with_format(\"tf\")\n",
    "\n",
    "    ds_tf.save_to_disk(\"ds-tf-224\")\n",
    "else:\n",
    "    ds_tf = datasets.load_from_disk(\"ds-tf-224\")"
   ]
  },
  {
   "cell_type": "code",
   "execution_count": 5,
   "metadata": {},
   "outputs": [
    {
     "name": "stderr",
     "output_type": "stream",
     "text": [
      "c:\\Users\\Tim\\miniconda3\\lib\\site-packages\\datasets\\arrow_dataset.py:385: FutureWarning: The output of `to_tf_dataset` will change when a passing single element list for `labels` or `columns` in the next datasets version. To return a tuple structure rather than dict, pass a single string.\n",
      "Old behaviour: columns=['a'], labels=['labels'] -> (tf.Tensor, tf.Tensor)  \n",
      "             : columns='a', labels='labels' -> (tf.Tensor, tf.Tensor)  \n",
      "New behaviour: columns=['a'],labels=['labels'] -> ({'a': tf.Tensor}, {'labels': tf.Tensor})  \n",
      "             : columns='a', labels='labels' -> (tf.Tensor, tf.Tensor) \n",
      "  warnings.warn(\n"
     ]
    }
   ],
   "source": [
    "ds_tf_train = ds_tf[\"train\"].to_tf_dataset(\n",
    "            columns=[\"image\"],\n",
    "            label_cols=[\"label\"],\n",
    "            batch_size=1,\n",
    "            shuffle=True\n",
    "            )\n",
    "\n",
    "ds_tf_vali = ds_tf[\"vali\"].to_tf_dataset(\n",
    "            columns=[\"image\"],\n",
    "            label_cols=[\"label\"],\n",
    "            batch_size=1,\n",
    "            shuffle=True\n",
    "            )\n",
    "\n",
    "ds_tf_test = ds_tf[\"test\"].to_tf_dataset(\n",
    "            columns=[\"image\"],\n",
    "            label_cols=[\"label\"],\n",
    "            batch_size=1,\n",
    "            shuffle=True\n",
    "            )"
   ]
  },
  {
   "cell_type": "code",
   "execution_count": 6,
   "metadata": {},
   "outputs": [
    {
     "name": "stdout",
     "output_type": "stream",
     "text": [
      "Model: \"sequential\"\n",
      "_________________________________________________________________\n",
      " Layer (type)                Output Shape              Param #   \n",
      "=================================================================\n",
      " conv2d (Conv2D)             (None, 220, 220, 4)       304       \n",
      "                                                                 \n",
      " max_pooling2d (MaxPooling2D  (None, 55, 55, 4)        0         \n",
      " )                                                               \n",
      "                                                                 \n",
      " conv2d_1 (Conv2D)           (None, 25, 25, 8)         1576      \n",
      "                                                                 \n",
      " max_pooling2d_1 (MaxPooling  (None, 12, 12, 8)        0         \n",
      " 2D)                                                             \n",
      "                                                                 \n",
      " flatten (Flatten)           (None, 1152)              0         \n",
      "                                                                 \n",
      " dense (Dense)               (None, 1)                 1153      \n",
      "                                                                 \n",
      "=================================================================\n",
      "Total params: 3,033\n",
      "Trainable params: 3,033\n",
      "Non-trainable params: 0\n",
      "_________________________________________________________________\n"
     ]
    }
   ],
   "source": [
    "model = models.Sequential()\n",
    "model.add(layers.Conv2D(4, (5, 5), activation='relu', input_shape=(224, 224, 3)))\n",
    "#model.add(layers.Conv2D(8, (9, 9), activation='relu', input_shape=(512, 512, 3)))\n",
    "model.add(layers.MaxPooling2D((4, 4)))\n",
    "model.add(layers.Conv2D(8, (7, 7), strides=(2,2),activation='relu'))\n",
    "model.add(layers.MaxPooling2D((2, 2)))\n",
    "# model.add(layers.Conv2D(64, (3, 3), activation='relu'))\n",
    "# Fully connected layers\n",
    "model.add(layers.Flatten())\n",
    "#model.add(layers.Dense(10, activation='sigmoid')) #removed for now to keep the network simple and fast \n",
    "#model.add(layers.Dense(1, activation = \"sigmoid\"))\n",
    "model.add(layers.Dense(1, activation = \"relu\"))\n",
    "#model.add(layers.Dense(1))\n",
    "\n",
    "model.summary()"
   ]
  },
  {
   "cell_type": "code",
   "execution_count": 7,
   "metadata": {},
   "outputs": [
    {
     "name": "stdout",
     "output_type": "stream",
     "text": [
      "(None, 224, 224, 3) <dtype: 'float32'>\n",
      "(None, 1) <dtype: 'float32'>\n",
      "conv2d (None, 224, 224, 3) float32\n",
      "max_pooling2d (None, 220, 220, 4) float32\n",
      "conv2d_1 (None, 55, 55, 4) float32\n",
      "max_pooling2d_1 (None, 25, 25, 8) float32\n",
      "flatten (None, 12, 12, 8) float32\n",
      "dense (None, 1152) float32\n"
     ]
    },
    {
     "data": {
      "text/plain": [
       "[None, None, None, None, None, None]"
      ]
     },
     "execution_count": 7,
     "metadata": {},
     "output_type": "execute_result"
    }
   ],
   "source": [
    "[print(i.shape, i.dtype) for i in model.inputs]\n",
    "[print(o.shape, o.dtype) for o in model.outputs]\n",
    "[print(l.name, l.input_shape, l.dtype) for l in model.layers]"
   ]
  },
  {
   "cell_type": "code",
   "execution_count": null,
   "metadata": {},
   "outputs": [
    {
     "name": "stdout",
     "output_type": "stream",
     "text": [
      "Epoch 1/10\n",
      "16019/18000 [=========================>....] - ETA: 7s - loss: 0.6935 - accuracy: 0.4997"
     ]
    },
    {
     "name": "stdout",
     "output_type": "stream",
     "text": [
      "16320/18000 [==========================>...] - ETA: 6s - loss: 0.6934 - accuracy: 0.4983"
     ]
    }
   ],
   "source": [
    "inputs = keras.Input(shape=(224, 224, 3))\n",
    "preprocessing_layer = layers.Normalization()\n",
    "x = preprocessing_layer(inputs)\n",
    "outputs = model(x)\n",
    "model = keras.Model(inputs, outputs)\n",
    "\n",
    "model.compile(optimizer='adam',\n",
    "              loss=tf.keras.losses.BinaryCrossentropy(from_logits=True),  # dear god let this be the right loss function\n",
    "              metrics=['accuracy'])\n",
    "\n",
    "history = model.fit(ds_tf_train, epochs=10, batch_size = 32, max_queue_size=10, shuffle=True,\n",
    "                    validation_data=ds_tf_vali\n",
    "                    )"
   ]
  },
  {
   "cell_type": "code",
   "execution_count": null,
   "metadata": {},
   "outputs": [],
   "source": [
    "#model.save(\"CNN-2\")"
   ]
  },
  {
   "cell_type": "code",
   "execution_count": null,
   "metadata": {},
   "outputs": [
    {
     "name": "stdout",
     "output_type": "stream",
     "text": [
      "1000/1000 - 3s - loss: 0.6932 - accuracy: 0.5120 - 3s/epoch - 3ms/step\n"
     ]
    },
    {
     "data": {
      "image/png": "[encoded data removed]",
      "text/plain": [
       "<Figure size 640x480 with 1 Axes>"
      ]
     },
     "metadata": {},
     "output_type": "display_data"
    }
   ],
   "source": [
    "plt.plot(history.history['accuracy'], label='accuracy')\n",
    "plt.plot(history.history['val_accuracy'], label = 'val_accuracy')\n",
    "plt.xlabel('Epoch')\n",
    "plt.ylabel('Accuracy')\n",
    "plt.ylim([0.2, 1])\n",
    "plt.legend(loc='lower right')\n",
    "\n",
    "test_loss, test_acc = model.evaluate(ds_tf_test, verbose=2)\n"
   ]
  },
  {
   "cell_type": "code",
   "execution_count": null,
   "metadata": {},
   "outputs": [
    {
     "name": "stdout",
     "output_type": "stream",
     "text": [
      "0.5120000243186951\n"
     ]
    }
   ],
   "source": [
    "print(test_acc)\n"
   ]
  }
 ],
 "metadata": {
  "kernelspec": {
   "display_name": "Python 3",
   "language": "python",
   "name": "python3"
  },
  "language_info": {
   "codemirror_mode": {
    "name": "ipython",
    "version": 3
   },
   "file_extension": ".py",
   "mimetype": "text/x-python",
   "name": "python",
   "nbconvert_exporter": "python",
   "pygments_lexer": "ipython3",
   "version": "3.10.10"
  },
  "orig_nbformat": 4
 },
 "nbformat": 4,
 "nbformat_minor": 2
}
